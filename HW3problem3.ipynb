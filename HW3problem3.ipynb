{
 "cells": [
  {
   "cell_type": "markdown",
   "id": "9f899452",
   "metadata": {},
   "source": [
    "# Setup"
   ]
  },
  {
   "cell_type": "code",
   "execution_count": 1,
   "id": "eceba53f-d89f-49ff-90fc-d2c493700d48",
   "metadata": {},
   "outputs": [
    {
     "name": "stderr",
     "output_type": "stream",
     "text": [
      "\u001b[32m\u001b[1mPrecompiling\u001b[22m\u001b[39m JuMP\n",
      "\u001b[32m  ✓ \u001b[39m\u001b[90mCompat\u001b[39m\n",
      "\u001b[32m  ✓ \u001b[39m\u001b[90mTranscodingStreams\u001b[39m\n",
      "\u001b[32m  ✓ \u001b[39m\u001b[90mCompat → CompatLinearAlgebraExt\u001b[39m\n",
      "\u001b[32m  ✓ \u001b[39m\u001b[90mTranscodingStreams → TestExt\u001b[39m\n",
      "\u001b[32m  ✓ \u001b[39m\u001b[90mCodecZlib\u001b[39m\n",
      "\u001b[32m  ✓ \u001b[39m\u001b[90mCodecBzip2\u001b[39m\n",
      "\u001b[32m  ✓ \u001b[39m\u001b[90mChainRulesCore\u001b[39m\n",
      "\u001b[32m  ✓ \u001b[39m\u001b[90mDataStructures\u001b[39m\n",
      "\u001b[32m  ✓ \u001b[39m\u001b[90mChainRulesCore → ChainRulesCoreSparseArraysExt\u001b[39m\n",
      "\u001b[32m  ✓ \u001b[39m\u001b[90mLogExpFunctions → LogExpFunctionsChainRulesCoreExt\u001b[39m\n",
      "\u001b[32m  ✓ \u001b[39m\u001b[90mMutableArithmetics\u001b[39m\n",
      "\u001b[32m  ✓ \u001b[39m\u001b[90mSpecialFunctions → SpecialFunctionsChainRulesCoreExt\u001b[39m\n",
      "\u001b[32m  ✓ \u001b[39m\u001b[90mStaticArrays\u001b[39m\n",
      "\u001b[32m  ✓ \u001b[39m\u001b[90mStaticArrays → StaticArraysStatisticsExt\u001b[39m\n",
      "\u001b[32m  ✓ \u001b[39m\u001b[90mForwardDiff → ForwardDiffStaticArraysExt\u001b[39m\n",
      "\u001b[32m  ✓ \u001b[39mMathOptInterface\n",
      "\u001b[32m  ✓ \u001b[39mJuMP\n",
      "  17 dependencies successfully precompiled in 53 seconds. 28 already precompiled.\n",
      "\u001b[32m\u001b[1mPrecompiling\u001b[22m\u001b[39m Gurobi\n",
      "\u001b[32m  ✓ \u001b[39mGurobi\n",
      "  1 dependency successfully precompiled in 2 seconds. 45 already precompiled.\n",
      "\u001b[32m\u001b[1mPrecompiling\u001b[22m\u001b[39m CSV\n",
      "\u001b[32m  ✓ \u001b[39m\u001b[90mInlineStrings\u001b[39m\n",
      "\u001b[32m  ✓ \u001b[39m\u001b[90mTables\u001b[39m\n",
      "\u001b[32m  ✓ \u001b[39m\u001b[90mSentinelArrays\u001b[39m\n",
      "\u001b[32m  ✓ \u001b[39m\u001b[90mWeakRefStrings\u001b[39m\n",
      "\u001b[32m  ✓ \u001b[39mCSV\n",
      "  5 dependencies successfully precompiled in 8 seconds. 20 already precompiled.\n",
      "\u001b[32m\u001b[1mPrecompiling\u001b[22m\u001b[39m DataFrames\n",
      "\u001b[32m  ✓ \u001b[39m\u001b[90mSortingAlgorithms\u001b[39m\n",
      "\u001b[32m  ✓ \u001b[39m\u001b[90mPrettyTables\u001b[39m\n",
      "\u001b[32m  ✓ \u001b[39mDataFrames\n",
      "  3 dependencies successfully precompiled in 26 seconds. 24 already precompiled.\n"
     ]
    }
   ],
   "source": [
    "using JuMP\n",
    "using Gurobi\n",
    "using CSV\n",
    "using DataFrames"
   ]
  },
  {
   "cell_type": "code",
   "execution_count": 2,
   "id": "5aa64789-0afb-4d0e-9432-13a8faee063d",
   "metadata": {},
   "outputs": [
    {
     "name": "stdout",
     "output_type": "stream",
     "text": [
      "Set parameter Username\n",
      "Academic license - for non-commercial use only - expires 2025-08-18\n"
     ]
    }
   ],
   "source": [
    "const GRB_ENV = Gurobi.Env(output_flag=1);"
   ]
  },
  {
   "cell_type": "markdown",
   "id": "9d5b1287-465f-4def-80ae-69c3ad5f3860",
   "metadata": {},
   "source": [
    "### Data importation"
   ]
  },
  {
   "cell_type": "code",
   "execution_count": 4,
   "id": "a780ed26-4884-464f-802e-bc19100104b8",
   "metadata": {},
   "outputs": [],
   "source": [
    "centers = CSV.File(\"data/centers.csv\",header=0) |> Tables.matrix;\n",
    "stations = CSV.File(\"data/stations.csv\",header=0) |> Tables.matrix;\n",
    "landfills = CSV.File(\"data/landfills.csv\",header=0) |> Tables.matrix;\n",
    "q = CSV.File(\"data/q.csv\",header=0) |> Tables.matrix;\n",
    "\n",
    "centers2 = CSV.File(\"data/centers2.csv\",header=0) |> Tables.matrix;\n",
    "stations2 = CSV.File(\"data/stations2.csv\",header=0) |> Tables.matrix;\n",
    "landfills2 = CSV.File(\"data/landfills2.csv\",header=0) |> Tables.matrix;\n",
    "q2 = CSV.File(\"data/q2.csv\",header=0) |> Tables.matrix;\n",
    "\n",
    "centers_all = [centers;centers2];\n",
    "stations_all = [stations;stations2];\n",
    "landfills_all = [landfills;landfills2];\n",
    "q_all = [q;q2];\n",
    "\n",
    "n1 = size(centers)[1]\n",
    "s1 = size(stations)[1]\n",
    "m1 = size(landfills)[1]\n",
    "n2 = size(centers2)[1]\n",
    "s2 = size(stations2)[1]\n",
    "m2 = size(landfills2)[1]\n",
    "n_all = n1+n2;\n",
    "s_all = s1+s2;\n",
    "m_all = m1+m2;"
   ]
  },
  {
   "cell_type": "markdown",
   "id": "6b73de60",
   "metadata": {},
   "source": [
    "# Part A"
   ]
  },
  {
   "cell_type": "markdown",
   "id": "f4da0454",
   "metadata": {},
   "source": [
    "## Calculate all distances"
   ]
  },
  {
   "cell_type": "code",
   "execution_count": 5,
   "id": "4faf4d45",
   "metadata": {},
   "outputs": [],
   "source": [
    "function euclidean_distance(x1, y1, x2, y2)\n",
    "    return sqrt((x1 - x2)^2 + (y1 - y2)^2)\n",
    "end\n",
    "\n",
    "dist = zeros(50, 15)\n",
    "for i in 1:50\n",
    "    for j in 1:15\n",
    "        dist[i, j] = euclidean_distance(centers[i, 1], centers[i, 2], landfills[j, 1], landfills[j, 2])\n",
    "    end\n",
    "end\n"
   ]
  },
  {
   "cell_type": "markdown",
   "id": "ca564e63",
   "metadata": {},
   "source": [
    "## Create Model"
   ]
  },
  {
   "cell_type": "code",
   "execution_count": 6,
   "id": "3eb96839",
   "metadata": {},
   "outputs": [
    {
     "name": "stdout",
     "output_type": "stream",
     "text": [
      "Set parameter Username\n",
      "Academic license - for non-commercial use only - expires 2025-08-18\n"
     ]
    },
    {
     "data": {
      "text/plain": [
       "50×15 Matrix{ConstraintRef{Model, MathOptInterface.ConstraintIndex{MathOptInterface.ScalarAffineFunction{Float64}, MathOptInterface.LessThan{Float64}}, ScalarShape}}:\n",
       " -y[1] + x[1,1] ≤ 0   -y[2] + x[1,2] ≤ 0   …  -y[15] + x[1,15] ≤ 0\n",
       " -y[1] + x[2,1] ≤ 0   -y[2] + x[2,2] ≤ 0      -y[15] + x[2,15] ≤ 0\n",
       " -y[1] + x[3,1] ≤ 0   -y[2] + x[3,2] ≤ 0      -y[15] + x[3,15] ≤ 0\n",
       " -y[1] + x[4,1] ≤ 0   -y[2] + x[4,2] ≤ 0      -y[15] + x[4,15] ≤ 0\n",
       " -y[1] + x[5,1] ≤ 0   -y[2] + x[5,2] ≤ 0      -y[15] + x[5,15] ≤ 0\n",
       " -y[1] + x[6,1] ≤ 0   -y[2] + x[6,2] ≤ 0   …  -y[15] + x[6,15] ≤ 0\n",
       " -y[1] + x[7,1] ≤ 0   -y[2] + x[7,2] ≤ 0      -y[15] + x[7,15] ≤ 0\n",
       " -y[1] + x[8,1] ≤ 0   -y[2] + x[8,2] ≤ 0      -y[15] + x[8,15] ≤ 0\n",
       " -y[1] + x[9,1] ≤ 0   -y[2] + x[9,2] ≤ 0      -y[15] + x[9,15] ≤ 0\n",
       " -y[1] + x[10,1] ≤ 0  -y[2] + x[10,2] ≤ 0     -y[15] + x[10,15] ≤ 0\n",
       " -y[1] + x[11,1] ≤ 0  -y[2] + x[11,2] ≤ 0  …  -y[15] + x[11,15] ≤ 0\n",
       " -y[1] + x[12,1] ≤ 0  -y[2] + x[12,2] ≤ 0     -y[15] + x[12,15] ≤ 0\n",
       " -y[1] + x[13,1] ≤ 0  -y[2] + x[13,2] ≤ 0     -y[15] + x[13,15] ≤ 0\n",
       " ⋮                                         ⋱  \n",
       " -y[1] + x[39,1] ≤ 0  -y[2] + x[39,2] ≤ 0     -y[15] + x[39,15] ≤ 0\n",
       " -y[1] + x[40,1] ≤ 0  -y[2] + x[40,2] ≤ 0     -y[15] + x[40,15] ≤ 0\n",
       " -y[1] + x[41,1] ≤ 0  -y[2] + x[41,2] ≤ 0  …  -y[15] + x[41,15] ≤ 0\n",
       " -y[1] + x[42,1] ≤ 0  -y[2] + x[42,2] ≤ 0     -y[15] + x[42,15] ≤ 0\n",
       " -y[1] + x[43,1] ≤ 0  -y[2] + x[43,2] ≤ 0     -y[15] + x[43,15] ≤ 0\n",
       " -y[1] + x[44,1] ≤ 0  -y[2] + x[44,2] ≤ 0     -y[15] + x[44,15] ≤ 0\n",
       " -y[1] + x[45,1] ≤ 0  -y[2] + x[45,2] ≤ 0     -y[15] + x[45,15] ≤ 0\n",
       " -y[1] + x[46,1] ≤ 0  -y[2] + x[46,2] ≤ 0  …  -y[15] + x[46,15] ≤ 0\n",
       " -y[1] + x[47,1] ≤ 0  -y[2] + x[47,2] ≤ 0     -y[15] + x[47,15] ≤ 0\n",
       " -y[1] + x[48,1] ≤ 0  -y[2] + x[48,2] ≤ 0     -y[15] + x[48,15] ≤ 0\n",
       " -y[1] + x[49,1] ≤ 0  -y[2] + x[49,2] ≤ 0     -y[15] + x[49,15] ≤ 0\n",
       " -y[1] + x[50,1] ≤ 0  -y[2] + x[50,2] ≤ 0     -y[15] + x[50,15] ≤ 0"
      ]
     },
     "execution_count": 6,
     "metadata": {},
     "output_type": "execute_result"
    }
   ],
   "source": [
    "model = Model(Gurobi.Optimizer)\n",
    "\n",
    "# Binary decision variables\n",
    "@variable(model, y[1:15], Bin)  # y_j: whether landfill j is built\n",
    "@variable(model, x[1:50, 1:15], Bin)  # x_ij: whether center i sends waste to landfill j\n",
    "\n",
    "# Objective: Minimize transportation cost\n",
    "@objective(model, Min, sum(q[i] * dist[i, j] * x[i, j] for i in 1:50, j in 1:15))\n",
    "\n",
    "# Constraint: Each center sends waste to exactly one landfill\n",
    "@constraint(model, [i in 1:50], sum(x[i, j] for j in 1:15) == 1)\n",
    "\n",
    "# Constraint: Only 5 landfills can be built\n",
    "@constraint(model, sum(y[j] for j in 1:15) == 5)\n",
    "\n",
    "# Constraint: Waste can only go to a landfill if it's built\n",
    "@constraint(model, [i in 1:50, j in 1:15], x[i, j] <= y[j])\n"
   ]
  },
  {
   "cell_type": "markdown",
   "id": "3f1c798f",
   "metadata": {},
   "source": [
    "## Run model"
   ]
  },
  {
   "cell_type": "code",
   "execution_count": 7,
   "id": "a78ee2dc",
   "metadata": {},
   "outputs": [
    {
     "name": "stdout",
     "output_type": "stream",
     "text": [
      "Gurobi Optimizer version 11.0.2 build v11.0.2rc0 (mac64[arm] - Darwin 23.6.0 23G93)\n",
      "\n",
      "CPU model: Apple M1\n",
      "Thread count: 8 physical cores, 8 logical processors, using up to 8 threads\n",
      "\n",
      "Optimize a model with 801 rows, 765 columns and 2265 nonzeros\n",
      "Model fingerprint: 0xc96c1769\n",
      "Variable types: 0 continuous, 765 integer (765 binary)\n",
      "Coefficient statistics:\n",
      "  Matrix range     [1e+00, 1e+00]\n",
      "  Objective range  [2e+03, 2e+05]\n",
      "  Bounds range     [0e+00, 0e+00]\n",
      "  RHS range        [1e+00, 5e+00]\n",
      "Presolve time: 0.00s\n",
      "Presolved: 801 rows, 765 columns, 2265 nonzeros\n",
      "Variable types: 0 continuous, 765 integer (765 binary)\n",
      "Found heuristic solution: objective 1026891.5990\n",
      "\n",
      "Root relaxation: objective 8.404875e+05, 168 iterations, 0.00 seconds (0.00 work units)\n",
      "\n",
      "    Nodes    |    Current Node    |     Objective Bounds      |     Work\n",
      " Expl Unexpl |  Obj  Depth IntInf | Incumbent    BestBd   Gap | It/Node Time\n",
      "\n",
      "*    0     0               0    840487.52400 840487.524  0.00%     -    0s\n",
      "\n",
      "Explored 1 nodes (168 simplex iterations) in 0.01 seconds (0.01 work units)\n",
      "Thread count was 8 (of 8 available processors)\n",
      "\n",
      "Solution count 2: 840488 1.02689e+06 \n",
      "\n",
      "Optimal solution found (tolerance 1.00e-04)\n",
      "Best objective 8.404875240013e+05, best bound 8.404875240013e+05, gap 0.0000%\n",
      "\n",
      "User-callback calls 139, time in user-callback 0.00 sec\n"
     ]
    }
   ],
   "source": [
    "optimize!(model)\n"
   ]
  },
  {
   "cell_type": "code",
   "execution_count": 8,
   "id": "45a63036",
   "metadata": {},
   "outputs": [
    {
     "name": "stdout",
     "output_type": "stream",
     "text": [
      "Built landfills: [3, 4, 7, 13, 14]\n",
      "Total distance (miles-tons): 840487.5240012797\n"
     ]
    }
   ],
   "source": [
    "# Get the built landfills\n",
    "built_landfills = findall(y -> value(y) > 0.5, y)  # These are the landfills that are built\n",
    "\n",
    "# Calculate the total distance traveled in miles-tons\n",
    "total_distance = objective_value(model)\n",
    "\n",
    "println(\"Built landfills: \", built_landfills)\n",
    "println(\"Total distance (miles-tons): \", total_distance)\n"
   ]
  },
  {
   "cell_type": "markdown",
   "id": "4414a237",
   "metadata": {},
   "source": [
    "# Part B"
   ]
  }
 ],
 "metadata": {
  "kernelspec": {
   "display_name": "Julia 1.10.4",
   "language": "julia",
   "name": "julia-1.10"
  },
  "language_info": {
   "file_extension": ".jl",
   "mimetype": "application/julia",
   "name": "julia",
   "version": "1.10.4"
  }
 },
 "nbformat": 4,
 "nbformat_minor": 5
}
